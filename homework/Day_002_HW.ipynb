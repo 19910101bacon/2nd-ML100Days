{
 "cells": [
  {
   "cell_type": "markdown",
   "metadata": {},
   "source": [
    "# 練習時間\n",
    "資料的操作有很多，接下來的馬拉松中我們會介紹常被使用到的操作，參加者不妨先自行想像一下，第一次看到資料，我們一般會想知道什麼訊息？\n",
    "\n",
    "## Ex: 如何知道資料的 row 數以及 column 數、有什麼欄位、多少欄位、如何截取部分的資料等等\n",
    "有了對資料的好奇之後，我們又怎麼通過程式碼來達成我們的目的呢？\n",
    "[基礎教材](https://bookdata.readthedocs.io/en/latest/base/01_pandas.html#DataFrame-%E5%85%A5%E9%97%A8)"
   ]
  },
  {
   "cell_type": "code",
   "execution_count": 31,
   "metadata": {
    "scrolled": true
   },
   "outputs": [],
   "source": [
    "import os \n",
    "import pandas as pd\n",
    "import numpy as np\n",
    "\n",
    "os.getcwd()\n",
    "os.path.join\n",
    "dir = '../data/'\n",
    "data = os.path.join(dir, 'credit_card_balance.csv')\n",
    "Data = pd.read_csv(data)\n"
   ]
  },
  {
   "cell_type": "markdown",
   "metadata": {},
   "source": [
    "## 資料的 row 數以及 column 數"
   ]
  },
  {
   "cell_type": "code",
   "execution_count": 20,
   "metadata": {},
   "outputs": [],
   "source": [
    "# Data.info() # schema\n",
    "# Data.describe() # 就是 summay\n",
    "\n",
    "# Data.size\n",
    "Data.shape\n"
   ]
  },
  {
   "cell_type": "code",
   "execution_count": 56,
   "metadata": {},
   "outputs": [
    {
     "data": {
      "text/html": [
       "<div>\n",
       "<style scoped>\n",
       "    .dataframe tbody tr th:only-of-type {\n",
       "        vertical-align: middle;\n",
       "    }\n",
       "\n",
       "    .dataframe tbody tr th {\n",
       "        vertical-align: top;\n",
       "    }\n",
       "\n",
       "    .dataframe thead th {\n",
       "        text-align: right;\n",
       "    }\n",
       "</style>\n",
       "<table border=\"1\" class=\"dataframe\">\n",
       "  <thead>\n",
       "    <tr style=\"text-align: right;\">\n",
       "      <th></th>\n",
       "      <th>1</th>\n",
       "      <th>x1</th>\n",
       "      <th>x2</th>\n",
       "      <th>x3</th>\n",
       "      <th>new_col</th>\n",
       "      <th>new_col2</th>\n",
       "      <th>index_col</th>\n",
       "    </tr>\n",
       "  </thead>\n",
       "  <tbody>\n",
       "    <tr>\n",
       "      <th>0</th>\n",
       "      <td>1.040343</td>\n",
       "      <td>-1.237109</td>\n",
       "      <td>-0.691349</td>\n",
       "      <td>0.515343</td>\n",
       "      <td>0</td>\n",
       "      <td>0.220780</td>\n",
       "      <td>0</td>\n",
       "    </tr>\n",
       "    <tr>\n",
       "      <th>4</th>\n",
       "      <td>-0.102880</td>\n",
       "      <td>-0.400163</td>\n",
       "      <td>-0.288113</td>\n",
       "      <td>0.364237</td>\n",
       "      <td>4</td>\n",
       "      <td>0.000000</td>\n",
       "      <td>4</td>\n",
       "    </tr>\n",
       "    <tr>\n",
       "      <th>3</th>\n",
       "      <td>0.338941</td>\n",
       "      <td>-0.232666</td>\n",
       "      <td>1.473888</td>\n",
       "      <td>-0.066624</td>\n",
       "      <td>3</td>\n",
       "      <td>0.298552</td>\n",
       "      <td>3</td>\n",
       "    </tr>\n",
       "    <tr>\n",
       "      <th>2</th>\n",
       "      <td>-1.943258</td>\n",
       "      <td>0.977296</td>\n",
       "      <td>-1.189867</td>\n",
       "      <td>2.343639</td>\n",
       "      <td>2</td>\n",
       "      <td>0.000000</td>\n",
       "      <td>2</td>\n",
       "    </tr>\n",
       "    <tr>\n",
       "      <th>1</th>\n",
       "      <td>-0.138778</td>\n",
       "      <td>1.051618</td>\n",
       "      <td>0.306177</td>\n",
       "      <td>1.343302</td>\n",
       "      <td>1</td>\n",
       "      <td>0.000000</td>\n",
       "      <td>1</td>\n",
       "    </tr>\n",
       "  </tbody>\n",
       "</table>\n",
       "</div>"
      ],
      "text/plain": [
       "          1        x1        x2        x3  new_col  new_col2  index_col\n",
       "0  1.040343 -1.237109 -0.691349  0.515343        0  0.220780          0\n",
       "4 -0.102880 -0.400163 -0.288113  0.364237        4  0.000000          4\n",
       "3  0.338941 -0.232666  1.473888 -0.066624        3  0.298552          3\n",
       "2 -1.943258  0.977296 -1.189867  2.343639        2  0.000000          2\n",
       "1 -0.138778  1.051618  0.306177  1.343302        1  0.000000          1"
      ]
     },
     "execution_count": 56,
     "metadata": {},
     "output_type": "execute_result"
    }
   ],
   "source": [
    "Data.index.tolist()\n",
    "df = pd.DataFrame(np.random.randn(5,4), columns = ['A', 'B', 'C', 'D'])\n",
    "df = df.rename(columns = {'A':'1', 'B':'x1', 'C':'x2', 'D':'x3'})\n",
    "df['x1'] # series\n",
    "df[['x1']]\n",
    "# df.x1\n",
    "df['new_col'] = range(len(df))\n",
    "# df['new_col1'] = np.repeat(np.nan.len(df))\n",
    "df['new_col2'] = np.random.rand(len(df)) - 0.5\n",
    "df['index_col'] = df.index\n",
    "df['new_col2'] = df['new_col2'].where(df['new_col2'] > 0, 0)\n",
    "df['new_col2'].idxmax()  # 最大值的位置\n",
    "df.reset_index()\n",
    "# df = df.set_index(keys=['r1','r2','r3', 'r4', 'r5'])\n",
    "\n",
    "df.sort_values('x1')"
   ]
  },
  {
   "cell_type": "code",
   "execution_count": 70,
   "metadata": {},
   "outputs": [
    {
     "data": {
      "text/html": [
       "<div>\n",
       "<style scoped>\n",
       "    .dataframe tbody tr th:only-of-type {\n",
       "        vertical-align: middle;\n",
       "    }\n",
       "\n",
       "    .dataframe tbody tr th {\n",
       "        vertical-align: top;\n",
       "    }\n",
       "\n",
       "    .dataframe thead th {\n",
       "        text-align: right;\n",
       "    }\n",
       "</style>\n",
       "<table border=\"1\" class=\"dataframe\">\n",
       "  <thead>\n",
       "    <tr style=\"text-align: right;\">\n",
       "      <th></th>\n",
       "      <th>y</th>\n",
       "    </tr>\n",
       "  </thead>\n",
       "  <tbody>\n",
       "    <tr>\n",
       "      <th>a</th>\n",
       "      <td>3</td>\n",
       "    </tr>\n",
       "    <tr>\n",
       "      <th>b</th>\n",
       "      <td>4</td>\n",
       "    </tr>\n",
       "    <tr>\n",
       "      <th>c</th>\n",
       "      <td>5</td>\n",
       "    </tr>\n",
       "  </tbody>\n",
       "</table>\n",
       "</div>"
      ],
      "text/plain": [
       "   y\n",
       "a  3\n",
       "b  4\n",
       "c  5"
      ]
     },
     "execution_count": 70,
     "metadata": {},
     "output_type": "execute_result"
    }
   ],
   "source": [
    "df0 = pd.DataFrame({'x': [1, 2, 3], 'y': [3, 4, 5]}, index=['a', 'b', 'c'])\n",
    "# .loc[label] 这是严格基于标签的索引\n",
    "# .iloc[inte] 这是严格基于整数位置的索引\n",
    "# df0.ix[0] ix is deprecated\n",
    "# df0['a']\n",
    "df0.loc['a']\n",
    "df0.iloc[:, 1:2] # df0.iloc[:, 'x'] 會錯，因為是純索引"
   ]
  },
  {
   "cell_type": "markdown",
   "metadata": {},
   "source": [
    "## 還有各種數之不盡的資料操作，重點還是取決於實務中遇到的狀況和你想問的問題，在馬拉松中我們也會陸續提到更多例子"
   ]
  },
  {
   "cell_type": "markdown",
   "metadata": {},
   "source": [
    "- 找有空值的欄位\n",
    "- 統計發生數量（R語言的 table指令\n",
    "- 時間性質的欄位處理\n",
    "- 正規表示法的文字處理\n",
    "- 畫圖"
   ]
  }
 ],
 "metadata": {
  "kernelspec": {
   "display_name": "Python 3",
   "language": "python",
   "name": "python3"
  },
  "language_info": {
   "codemirror_mode": {
    "name": "ipython",
    "version": 3
   },
   "file_extension": ".py",
   "mimetype": "text/x-python",
   "name": "python",
   "nbconvert_exporter": "python",
   "pygments_lexer": "ipython3",
   "version": "3.7.0"
  }
 },
 "nbformat": 4,
 "nbformat_minor": 2
}
