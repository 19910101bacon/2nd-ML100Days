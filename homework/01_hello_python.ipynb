{
 "cells": [
  {
   "cell_type": "markdown",
   "metadata": {},
   "source": [
    "## 作業1：\n",
    "\n",
    "請上 Kaggle, 在 Competitions 或 Dataset 中找一組競賽或資料並寫下：\n",
    "\n",
    "1. 你選的這組資料為何重要\n",
    "\n",
    "2. 資料從何而來 (tips: 譬如提供者是誰、以什麼方式蒐集)\n",
    "\n",
    "3. 蒐集而來的資料型態為何\n",
    "\n",
    "4. 這組資料想解決的問題如何評估"
   ]
  },
  {
   "cell_type": "markdown",
   "metadata": {},
   "source": [
    "ANS :\n",
    "\n",
    "(1) Heart Disease UCI (https://www.kaggle.com/ronitf/heart-disease-uci), 可以嘗試找到心臟病的潛在趨勢\n",
    "\n",
    "(2) 由David W. Aha捐獻，Andras Janosi, M.D. ,  William Steinbrunn, M.D. ,  Matthias Pfisterer, M.D., Robert Detrano, M.D., Ph.D. 等四位實驗於克利夫蘭的實驗\n",
    "\n",
    "(3) 為結構型資料，3個 Nominal型變數, 5個 ordinal型變數, 5個ratio/interval型變數\n",
    "\n",
    "(4) 這是個分類問題，可以用最簡單的 Coinfustion Matrix 來呈現/設計一個綜合指標"
   ]
  },
  {
   "cell_type": "markdown",
   "metadata": {},
   "source": [
    "## 作業2：\n",
    "\n",
    "想像你經營一個自由載客車隊，你希望能透過數據分析以提升業績，請你思考並描述你如何規劃整體的分析/解決方案：\n",
    "\n",
    "1. 核心問題為何 (tips：如何定義 「提升業績 & 你的假設」)\n",
    "\n",
    "2. 資料從何而來 (tips：哪些資料可能會對你想問的問題產生影響 & 資料如何蒐集)\n",
    "\n",
    "3. 蒐集而來的資料型態為何\n",
    "\n",
    "4. 你要回答的問題，其如何評估 (tips：你的假設如何驗證)"
   ]
  },
  {
   "cell_type": "markdown",
   "metadata": {},
   "source": [
    "ANS :\n",
    "    \n",
    "(1) 先找到有哪些因素會引響業績，如app使用情形、車隊服務品質與效率、收費方式與計算、同行競爭情形、政府政策\n",
    "\n",
    "(2) App使用情形的數據已有記載，雖然可能要跟廠商購買資料 ; 品質效率可以透過問卷 ; 收費方式不用計算，就每個客人的消費金額，應當有個資料庫存放這些資要\n",
    "; 同行競爭情形，不知是否在 計程車公會 那能否拿到資料/政府開放資料有提供，不然就得做質性分析 ; 政府政策同上，不免俗地可能也得走到質性分析，畢竟難以全盤量化\n",
    "\n",
    "(3) 有結構型資料與非結構型的文字資料（若有攝影機的影片數據，那就多一個非結構資料的來源\n",
    "\n",
    "(4) 若要驗證假設，A/B test 是最簡單的方式 ; 若是評估模型假設是否正確，則看預測的指標是否靠近真實情形，如預測營收是否就跟下半年相同"
   ]
  },
  {
   "cell_type": "markdown",
   "metadata": {},
   "source": [
    "## 作業3：\n",
    "\n",
    "請點選下方檢視範例依照 Day_001_example_of_metrics.ipynb 完成 Mean Squared Error 的函式\n",
    "\n",
    "資料夾結構建立規則提醒：2nd-ML100Days > data資料夾 & homework資料夾 (ipynb檔) \n",
    "\n",
    "(請注意data的存放位置，建議放在*.ipynb 同一個目錄下，這樣才能在不修改code的情況下正常執行)"
   ]
  },
  {
   "cell_type": "code",
   "execution_count": 22,
   "metadata": {
    "scrolled": true
   },
   "outputs": [
    {
     "data": {
      "text/plain": [
       "4.201962406602919"
      ]
     },
     "execution_count": 22,
     "metadata": {},
     "output_type": "execute_result"
    }
   ],
   "source": [
    "import numpy as np\n",
    "import matplotlib.pyplot as plt\n",
    "x = np.linspace(0, 100, 101)\n",
    "b = 0.5\n",
    "w = 3\n",
    "y = w*x + b + np.random.randn(101)*5\n",
    "y_hat = w*x + b\n",
    "\n",
    "def mean_square_error(seq1, seq2): return  np.mean((seq1 - seq2)**2)\n",
    "def mean_absolute_error(seq1, seq2): return  np.mean(np.abs(seq1 - seq2))\n",
    "mean_square_error(y , y_hat)\n",
    "mean_absolute_error(y , y_hat)"
   ]
  },
  {
   "cell_type": "markdown",
   "metadata": {},
   "source": [
    "$ MSE = \\frac{1}{n}\\sum_{i=1}^{n}{(Y_i - \\hat{Y}_i)^2} $"
   ]
  }
 ],
 "metadata": {
  "kernelspec": {
   "display_name": "Python 3",
   "language": "python",
   "name": "python3"
  },
  "language_info": {
   "codemirror_mode": {
    "name": "ipython",
    "version": 3
   },
   "file_extension": ".py",
   "mimetype": "text/x-python",
   "name": "python",
   "nbconvert_exporter": "python",
   "pygments_lexer": "ipython3",
   "version": "3.7.3"
  }
 },
 "nbformat": 4,
 "nbformat_minor": 2
}
